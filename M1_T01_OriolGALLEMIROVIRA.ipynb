{
 "cells": [
  {
   "cell_type": "code",
   "execution_count": 2,
   "id": "8e3f2517",
   "metadata": {},
   "outputs": [],
   "source": [
    "import numpy as np"
   ]
  },
  {
   "cell_type": "code",
   "execution_count": 8,
   "id": "1bf90634",
   "metadata": {},
   "outputs": [
    {
     "data": {
      "text/plain": [
       "array([[[0.14810139, 0.51114272, 0.37874161, 0.89008056],\n",
       "        [0.56381126, 0.52808562, 0.55600616, 0.35491789],\n",
       "        [0.26745012, 0.84823524, 0.19944886, 0.72106536]],\n",
       "\n",
       "       [[0.97922102, 0.34941501, 0.98076006, 0.59880106],\n",
       "        [0.25916253, 0.39697499, 0.87224964, 0.42185105],\n",
       "        [0.65097984, 0.66844849, 0.5662334 , 0.22521923]]])"
      ]
     },
     "execution_count": 8,
     "metadata": {},
     "output_type": "execute_result"
    }
   ],
   "source": [
    "array_dual=np.random.random((2,3,4))\n",
    "array_dual"
   ]
  },
  {
   "cell_type": "code",
   "execution_count": 27,
   "id": "ed667229",
   "metadata": {},
   "outputs": [
    {
     "data": {
      "text/plain": [
       "array([0.00161142, 0.02726877, 0.10450682, 0.04659453, 0.609696  ,\n",
       "       0.43384955, 0.01820347, 0.62610273, 0.37397087, 0.71541475,\n",
       "       0.6778145 , 0.70980311, 0.78384491, 0.24580626, 0.55210049,\n",
       "       0.04194697, 0.90320107, 0.98559797, 0.15098756, 0.33689676,\n",
       "       0.20744889, 0.60808776, 0.20741141, 0.72919855, 0.11079161,\n",
       "       0.64103792, 0.36536512, 0.48383455, 0.28437881, 0.26302632,\n",
       "       0.65454648, 0.9102698 , 0.6796778 , 0.18960082, 0.17412137,\n",
       "       0.9894539 , 0.37948341, 0.36013368, 0.41287758, 0.53327514,\n",
       "       0.73167988, 0.66452227, 0.60439552, 0.65469505, 0.05519213,\n",
       "       0.59514517, 0.96912396, 0.58220113, 0.87597196, 0.96432391])"
      ]
     },
     "execution_count": 27,
     "metadata": {},
     "output_type": "execute_result"
    }
   ],
   "source": [
    "array_single=np.random.random(50)\n",
    "array_single"
   ]
  },
  {
   "cell_type": "code",
   "execution_count": 36,
   "id": "41b3a4a7",
   "metadata": {},
   "outputs": [
    {
     "data": {
      "text/plain": [
       "1"
      ]
     },
     "execution_count": 36,
     "metadata": {},
     "output_type": "execute_result"
    }
   ],
   "source": [
    "array_single.ndim"
   ]
  },
  {
   "cell_type": "markdown",
   "id": "523e4818",
   "metadata": {},
   "source": [
    "# EXERCICI 1"
   ]
  },
  {
   "cell_type": "code",
   "execution_count": 58,
   "id": "12243fb9",
   "metadata": {},
   "outputs": [],
   "source": [
    "def resumir (matriu):\n",
    "    if (matriu.ndim > 1):\n",
    "        print(\"ERROR FATAL: la matriu entrada conté més d'una dimensió\")\n",
    "    else:\n",
    "        #ALERTA, el mètode nomes funciona perquè matriu és unidimensional. ELSE matriu(axis=1....n)\n",
    "        out=[]\n",
    "        mean = matriu.mean()\n",
    "        sd = matriu.std()\n",
    "        max_val = matriu.max()\n",
    "        min_val =  matriu.min()\n",
    "        pc = np.percentile(matriu, [25, 75] )\n",
    "        out.append((mean, sd, max_val, min_val, pc[0], pc[1]))\n",
    "        resum=np.array(out, dtype=None)\n",
    "        np.set_printoptions(suppress=True)\n",
    "        print(\"    MEAN       StDEV          MAX         MIN        25%         75%\")\n",
    "        print(resum)\n",
    "    return (resum)"
   ]
  },
  {
   "cell_type": "code",
   "execution_count": 59,
   "id": "9b17abe3",
   "metadata": {
    "scrolled": true
   },
   "outputs": [
    {
     "name": "stdout",
     "output_type": "stream",
     "text": [
      "    MEAN       StDEV          MAX         MIN        25%         75%\n",
      "[[0.48452981 0.29230875 0.9894539  0.00161142 0.21703823 0.67921198]]\n"
     ]
    },
    {
     "data": {
      "text/plain": [
       "array([[0.48452981, 0.29230875, 0.9894539 , 0.00161142, 0.21703823,\n",
       "        0.67921198]])"
      ]
     },
     "execution_count": 59,
     "metadata": {},
     "output_type": "execute_result"
    }
   ],
   "source": [
    "resumir(array_single)"
   ]
  },
  {
   "cell_type": "markdown",
   "id": "bef1ac8c",
   "metadata": {},
   "source": [
    "# EXERCICI 2"
   ]
  },
  {
   "cell_type": "code",
   "execution_count": 65,
   "id": "05f1d4e6",
   "metadata": {},
   "outputs": [],
   "source": [
    "def rndmtrx (ndim):\n",
    "    m=100*np.random.random((ndim,ndim))\n",
    "    return(m)"
   ]
  },
  {
   "cell_type": "code",
   "execution_count": 67,
   "id": "c9ceed16",
   "metadata": {},
   "outputs": [
    {
     "data": {
      "text/plain": [
       "array([[66.72099525, 91.48963036, 52.49120537],\n",
       "       [20.94668924, 15.22118877, 68.52030733],\n",
       "       [58.27880585, 96.62624048, 94.42227967]])"
      ]
     },
     "execution_count": 67,
     "metadata": {},
     "output_type": "execute_result"
    }
   ],
   "source": [
    "rndmtrx(3)"
   ]
  },
  {
   "cell_type": "markdown",
   "id": "b1ce09bf",
   "metadata": {},
   "source": [
    "# EXERCICI 3"
   ]
  },
  {
   "cell_type": "code",
   "execution_count": 71,
   "id": "cf414332",
   "metadata": {},
   "outputs": [],
   "source": [
    "def summa (matrix):\n",
    "    if (matrix.ndim==2):\n",
    "        out=[]\n",
    "        a=matrix.sum(axis=0) #vector suma per files\n",
    "        b=matrix.sum(axis=1) #vector suma per columnes *notant que la presentacio és transposada en pantalla\n",
    "        out.append((a, b))\n",
    "        resultats=np.array(out, dtype=None)\n",
    "    else:\n",
    "        print(\"La matriu no té format bidimensional\")\n",
    "    return (resultats)"
   ]
  },
  {
   "cell_type": "code",
   "execution_count": 77,
   "id": "543c5cca",
   "metadata": {},
   "outputs": [
    {
     "name": "stdout",
     "output_type": "stream",
     "text": [
      "[[ 4.14814345 20.01494365 78.16341002]\n",
      " [32.49152052 39.7691778  58.14480473]\n",
      " [23.17262311 96.43026558 26.46321237]]\n"
     ]
    },
    {
     "data": {
      "text/plain": [
       "array([[[ 59.81228708, 156.21438703, 162.77142713],\n",
       "        [102.32649712, 130.40550305, 146.06610106]]])"
      ]
     },
     "execution_count": 77,
     "metadata": {},
     "output_type": "execute_result"
    }
   ],
   "source": [
    "var=rndmtrx(3)\n",
    "print(var)\n",
    "summa(var)"
   ]
  },
  {
   "cell_type": "markdown",
   "id": "f6896621",
   "metadata": {},
   "source": [
    "# EXERCICI 4"
   ]
  },
  {
   "cell_type": "code",
   "execution_count": 85,
   "id": "4a100766",
   "metadata": {},
   "outputs": [],
   "source": [
    "def correlacio (matvar):   #es calcula escombrant la matriu per files i columnes amb Rij=(Cij/(arrel(Cii*Cjj)))\n",
    "    c=np.corrcoef(matvar)  #dona una mesura de la independència de 2 variables sent 0 independents i +/-1 una dependència total\n",
    "    return (c)             #no indica CAUSALITAT, només correlació"
   ]
  },
  {
   "cell_type": "code",
   "execution_count": 86,
   "id": "fe2ea3d6",
   "metadata": {},
   "outputs": [
    {
     "name": "stdout",
     "output_type": "stream",
     "text": [
      "[[ 1.          0.99727665 -0.27520953]\n",
      " [ 0.99727665  1.         -0.20355648]\n",
      " [-0.27520953 -0.20355648  1.        ]]\n"
     ]
    },
    {
     "data": {
      "text/plain": [
       "array([[ 1.        ,  0.99727665, -0.27520953],\n",
       "       [ 0.99727665,  1.        , -0.20355648],\n",
       "       [-0.27520953, -0.20355648,  1.        ]])"
      ]
     },
     "execution_count": 86,
     "metadata": {},
     "output_type": "execute_result"
    }
   ],
   "source": [
    "correlacio(var)"
   ]
  }
 ],
 "metadata": {
  "kernelspec": {
   "display_name": "Python 3",
   "language": "python",
   "name": "python3"
  },
  "language_info": {
   "codemirror_mode": {
    "name": "ipython",
    "version": 3
   },
   "file_extension": ".py",
   "mimetype": "text/x-python",
   "name": "python",
   "nbconvert_exporter": "python",
   "pygments_lexer": "ipython3",
   "version": "3.8.8"
  }
 },
 "nbformat": 4,
 "nbformat_minor": 5
}
